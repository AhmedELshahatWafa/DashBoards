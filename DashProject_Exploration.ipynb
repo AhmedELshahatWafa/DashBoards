{
 "cells": [
  {
   "cell_type": "code",
   "execution_count": 1,
   "metadata": {},
   "outputs": [
    {
     "name": "stderr",
     "output_type": "stream",
     "text": [
      "<ipython-input-1-c45c8dda236f>:2: UserWarning: \n",
      "The dash_core_components package is deprecated. Please replace\n",
      "`import dash_core_components as dcc` with `from dash import dcc`\n",
      "  import dash_core_components as dcc\n",
      "<ipython-input-1-c45c8dda236f>:3: UserWarning: \n",
      "The dash_html_components package is deprecated. Please replace\n",
      "`import dash_html_components as html` with `from dash import html`\n",
      "  import dash_html_components as html\n"
     ]
    }
   ],
   "source": [
    "import dash\n",
    "import dash_core_components as dcc\n",
    "import dash_html_components as html\n",
    "import plotly.express as px\n",
    "import dash_bootstrap_components as dbc\n",
    "import pandas as pd\n",
    "\n",
    "from dash_bootstrap_templates import load_figure_template\n",
    "from dash.dependencies import Input,Output"
   ]
  },
  {
   "cell_type": "code",
   "execution_count": 2,
   "metadata": {
    "code_folding": []
   },
   "outputs": [],
   "source": [
    "# This loads the \"cyborg\" themed figure template from dash-bootstrap-templates library,\n",
    "# adds it to plotly.io and makes it the default figure template.\n",
    "\n",
    "load_figure_template(\"cyborg\")\n",
    "\n",
    "app = dash.Dash(__name__, external_stylesheets=[dbc.themes.CYBORG])\n",
    "\n",
    "df_data = pd.read_csv(\"../data/Video_Games_Sales_as_at_22_Dec_2016.csv\")\n"
   ]
  },
  {
   "cell_type": "code",
   "execution_count": null,
   "metadata": {
    "code_folding": [
     22
    ]
   },
   "outputs": [
    {
     "name": "stdout",
     "output_type": "stream",
     "text": [
      "Dash is running on http://127.0.0.1:8050/\n",
      "\n",
      " * Serving Flask app \"__main__\" (lazy loading)\n",
      " * Environment: production\n",
      "   WARNING: This is a development server. Do not use it in a production deployment.\n",
      "   Use a production WSGI server instead.\n",
      " * Debug mode: off\n"
     ]
    },
    {
     "name": "stderr",
     "output_type": "stream",
     "text": [
      " * Running on http://127.0.0.1:8050/ (Press CTRL+C to quit)\n",
      "127.0.0.1 - - [03/Nov/2021 11:13:07] \"\u001b[37mGET / HTTP/1.1\u001b[0m\" 200 -\n",
      "127.0.0.1 - - [03/Nov/2021 11:13:08] \"\u001b[37mGET /_dash-layout HTTP/1.1\u001b[0m\" 200 -\n",
      "127.0.0.1 - - [03/Nov/2021 11:13:08] \"\u001b[37mGET /_dash-dependencies HTTP/1.1\u001b[0m\" 200 -\n"
     ]
    },
    {
     "name": "stdout",
     "output_type": "stream",
     "text": [
      "Exception on /_dash-update-component [POST]\n",
      "Traceback (most recent call last):\n",
      "  File \"C:\\Users\\Ahmed-wafa\\anaconda3\\lib\\site-packages\\flask\\app.py\", line 2447, in wsgi_app\n",
      "    response = self.full_dispatch_request()\n",
      "  File \"C:\\Users\\Ahmed-wafa\\anaconda3\\lib\\site-packages\\flask\\app.py\", line 1952, in full_dispatch_request\n",
      "    rv = self.handle_user_exception(e)\n",
      "  File \"C:\\Users\\Ahmed-wafa\\anaconda3\\lib\\site-packages\\flask\\app.py\", line 1821, in handle_user_exception\n",
      "    reraise(exc_type, exc_value, tb)\n",
      "  File \"C:\\Users\\Ahmed-wafa\\anaconda3\\lib\\site-packages\\flask\\_compat.py\", line 39, in reraise\n",
      "    raise value\n",
      "  File \"C:\\Users\\Ahmed-wafa\\anaconda3\\lib\\site-packages\\flask\\app.py\", line 1950, in full_dispatch_request\n",
      "    rv = self.dispatch_request()\n",
      "  File \"C:\\Users\\Ahmed-wafa\\anaconda3\\lib\\site-packages\\flask\\app.py\", line 1936, in dispatch_request\n",
      "    return self.view_functions[rule.endpoint](**req.view_args)\n",
      "  File \"C:\\Users\\Ahmed-wafa\\anaconda3\\lib\\site-packages\\dash\\dash.py\", line 1336, in dispatch\n",
      "    response.set_data(func(*args, outputs_list=outputs_list))\n",
      "  File \"C:\\Users\\Ahmed-wafa\\anaconda3\\lib\\site-packages\\dash\\_callback.py\", line 151, in add_context\n",
      "    output_value = func(*func_args, **func_kwargs)  # %% callback invoked %%\n",
      "  File \"<ipython-input-3-c877a9523360>\", line 38, in update\n",
      "    return \" | \".join((str(val) for val in vals if val))\n",
      "NameError: name 'vals' is not defined\n"
     ]
    },
    {
     "name": "stderr",
     "output_type": "stream",
     "text": [
      "127.0.0.1 - - [03/Nov/2021 11:13:08] \"\u001b[35m\u001b[1mPOST /_dash-update-component HTTP/1.1\u001b[0m\" 500 -\n"
     ]
    }
   ],
   "source": [
    "\"Year_of_Release\",\"NA_Sales\",\"EU_Sales\",\"JP_Sales\",\"Other_Sales\", \"Global_Sales\",\"Critic_Score\",\"Critic_Count\",\n",
    "\"User_Score\", \"User_Count\",\"Platform\",\"Genre\",\"Publisher\",\"User_Score\",\"Developer\"\n",
    "\n",
    "\n",
    "ALLOWED_TYPES = [\"text\", \"number\", \"password\", \"email\", \"search\",\"tel\", \"url\", \"range\", \"hidden\"]\n",
    "\n",
    "\n",
    "graphs = html.Div(\n",
    "    [\n",
    "        dbc.Row(\n",
    "                [dcc.Input(id=\"input_{}\".format(_), type=_,placeholder=\"input type {}\".format(_),) for _ in ALLOWED_TYPES]\n",
    "                 + [html.Div(id=\"out-all-types\")]\n",
    "            ,\n",
    "            className=\"mt-4\",\n",
    "        ),\n",
    "    ]\n",
    ")\n",
    "\n",
    "heading = html.Div(\"Video Game Sales Analysis\",\\\n",
    "style = {'color': 'lightGreen',\n",
    "         'fontSize': 30,\n",
    "         \"textAlign\":\"center\",\n",
    "         \"font-family\": \"Copperplate\",\n",
    "         \"margin-bottom\":20})\n",
    "\n",
    "\n",
    "app.layout = dbc.Container(fluid=True, children=[heading,graphs], style ={\"background-color\": \"#282828\" })\n",
    "\n",
    "\n",
    "\n",
    "@app.callback(\n",
    "    Output(\"out-all-types\", \"children\"),\n",
    "    [Input(\"input_{}\".format(_), \"value\") for _ in ALLOWED_TYPES]\n",
    ")\n",
    "def update(*input_values):\n",
    "    return \" | \".join((str(val) for val in vals if val))\n",
    "\n",
    "\n",
    "\n",
    "if __name__ == \"__main__\":\n",
    "    app.run_server()"
   ]
  },
  {
   "cell_type": "code",
   "execution_count": null,
   "metadata": {},
   "outputs": [],
   "source": []
  },
  {
   "cell_type": "code",
   "execution_count": null,
   "metadata": {},
   "outputs": [],
   "source": [
    "# app = dash.Dash()\n",
    "\n",
    "# app.layout = html.Div([\n",
    "#     dcc.Graph(id = \"myGraph\"),\n",
    "#     dcc.Graph(id = \"myGraph2\"),\n",
    "#     dcc.Slider(id = \"mySlider\",\n",
    "#         min=df[\"year\"].min(),\n",
    "#         max=df[\"year\"].max(),\n",
    "#         marks={i: '{}'.format(i) for i in df[\"year\"]},\n",
    "#         value=df[\"year\"].min(),\n",
    "#         step = None\n",
    "#     ),\n",
    "# #     dcc.Dropdown(id = \"my_drop\", options =[\n",
    "# #          {'label': continent, 'value': continent} for continent in df[\"continent\"].unique()\n",
    "# #     ])\n",
    "    \n",
    "#       dcc.Checklist(id = \"my_drop\",\n",
    "#         options=[\n",
    "#             {'label': continent, 'value': continent} for continent in df[\"continent\"].unique()\n",
    "#         ],\n",
    "#         value = [\"Asia\"]\n",
    "#     ),\n",
    "#     html.Button(id = \"btn_submit\", n_clicks = 0, children = \"Submit\")\n",
    "# ])\n",
    "\n",
    "\n",
    "# @app.callback( \n",
    "#     Output(component_id = \"myGraph\", component_property =\"figure\"),\n",
    "#     Output(component_id = \"myGraph2\", component_property =\"figure\"),\n",
    "#     Input(component_id = \"btn_submit\", component_property =\"n_clicks\"),\n",
    "#     State(component_id = \"mySlider\" ,component_property =\"value\"),\n",
    "#     State(component_id = \"my_drop\" ,component_property =\"value\")\n",
    "# )\n",
    "# def update(n_clicks, input_value, input_value2):\n",
    "#     if (input_value2 == None) or (len(input_value2) == 0):\n",
    "#         filtered_df =  df[df[\"year\"]== input_value]\n",
    "#         return px.scatter( filtered_df, x =\"gdpPercap\" ,log_x = True, y =\"lifeExp\",size_max=60, color= \"continent\",size=\"pop\"),\\\n",
    "#                 px.scatter( filtered_df, x =\"gdpPercap\" ,log_x = True, y =\"lifeExp\",size_max=60, color= \"continent\",size=\"pop\"),\n",
    "#     else:\n",
    "#         filtered_df = df[ ( df[\"year\"]== input_value ) & ( df[\"continent\"].isin(input_value2 ))]\n",
    "#         return px.scatter(filtered_df, x =\"gdpPercap\" ,log_x = True, y =\"lifeExp\",size_max=60, color= \"continent\",size=\"pop\"),\\\n",
    "#                 px.scatter(filtered_df, x =\"gdpPercap\" ,log_x = True, y =\"lifeExp\",size_max=60, color= \"continent\",size=\"pop\")\n",
    "\n",
    "# app.run_server()"
   ]
  }
 ],
 "metadata": {
  "kernelspec": {
   "display_name": "Python 3",
   "language": "python",
   "name": "python3"
  },
  "language_info": {
   "codemirror_mode": {
    "name": "ipython",
    "version": 3
   },
   "file_extension": ".py",
   "mimetype": "text/x-python",
   "name": "python",
   "nbconvert_exporter": "python",
   "pygments_lexer": "ipython3",
   "version": "3.8.5"
  }
 },
 "nbformat": 4,
 "nbformat_minor": 4
}
